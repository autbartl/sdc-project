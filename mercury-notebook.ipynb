{
 "cells": [
  {
   "cell_type": "raw",
   "metadata": {},
   "source": [
    "---\n",
    "title: Covid dashboard\n",
    "description: This is exercise 3 of SDC\n",
    "params:\n",
    "    state:\n",
    "        input: select\n",
    "        label: Select state\n",
    "        value: [Wien, Niederösterreich, Oberösterreich, Burgenland, Steiermark, Salzburg, Kärnten, Tirol, Vorarlberg]\n",
    "        choices: [Wien, Niederösterreich, Oberösterreich, Burgenland, Steiermark, Salzburg, Kärnten, Tirol, Vorarlberg]\n",
    "        multi: True\n",
    "    male:\n",
    "        input: checkbox\n",
    "        label: Male\n",
    "        value: False\n",
    "    female:\n",
    "        input: checkbox\n",
    "        label: Female\n",
    "        value: True\n",
    "    celsius:\n",
    "        input: numeric \n",
    "        label: Submit degree celsius, calculate Fahrenheit\n",
    "        value: 0\n",
    "        min: -273,15\n",
    "        max: 300\n",
    "        step: 1\n",
    " ---"
   ]
  },
  {
   "cell_type": "markdown",
   "metadata": {},
   "source": [
    "# **Covid dashboard with mercury**"
   ]
  },
  {
   "cell_type": "code",
   "execution_count": 39,
   "metadata": {},
   "outputs": [],
   "source": [
    "import pandas as pd\n",
    "import seaborn as sns\n",
    "import matplotlib.pyplot as plt\n",
    "import json\n",
    "import requests"
   ]
  },
  {
   "cell_type": "code",
   "execution_count": 2,
   "metadata": {},
   "outputs": [],
   "source": [
    "covid = pd.read_csv(\"CovidFaelle_Altersgruppe.csv\", sep = ';')\n",
    "\n",
    "# without AUT (whole country)\n",
    "covid_wo_aut = covid.loc[covid['Bundesland'] != \"Österreich\"]"
   ]
  },
  {
   "cell_type": "code",
   "execution_count": 3,
   "metadata": {},
   "outputs": [],
   "source": [
    "state = ['Wien',\n",
    "            'Niederösterreich',\n",
    "            'Oberösterreich',\n",
    "            'Burgenland', \n",
    "            'Steiermark',\n",
    "            'Salzburg',\n",
    "            'Kärnten',\n",
    "            'Tirol', 'Vorarlberg']\n",
    "male = False\n",
    "female = True\n",
    "celsius = 0"
   ]
  },
  {
   "cell_type": "code",
   "execution_count": 4,
   "metadata": {},
   "outputs": [
    {
     "data": {
      "image/png": "[encoded data removed]",
      "text/plain": [
       "<Figure size 423.75x360 with 1 Axes>"
      ]
     },
     "metadata": {
      "needs_background": "light"
     },
     "output_type": "display_data"
    }
   ],
   "source": [
    "# Death count per state (absolute)\n",
    "\n",
    "df_copy = covid_wo_aut.copy()\n",
    "\n",
    "bundesland_sum_time = df_copy.groupby(by = [\"Time\", \"Bundesland\", \"Geschlecht\"], as_index = False).sum()\n",
    "df = bundesland_sum_time[17892:17910][['Bundesland', 'AnzahlTot', 'Geschlecht']]\n",
    "isin_state = df.Bundesland.isin(state)\n",
    "df = df[isin_state]\n",
    "\n",
    "if male == True and female == False:\n",
    "    df = df[df['Geschlecht'] == 'M']\n",
    "\n",
    "if male == False and female == True:\n",
    "    df = df[df['Geschlecht'] == 'W']\n",
    "\n",
    "ax = sns.catplot(x = \"Bundesland\",\n",
    "                    kind = \"bar\",\n",
    "                    y = \"AnzahlTot\",\n",
    "                    hue = \"Geschlecht\",\n",
    "                    data = df,\n",
    "                    palette = \"plasma\").set(title = 'Total Covid deaths from 02/20 to 11/22')\n",
    "plt.xticks(rotation = 90)\n",
    "plt.show()"
   ]
  },
  {
   "cell_type": "markdown",
   "metadata": {},
   "source": [
    "# **FastAPI**"
   ]
  },
  {
   "cell_type": "code",
   "execution_count": 37,
   "metadata": {},
   "outputs": [],
   "source": [
    "payload = {\"celsius\": celsius}"
   ]
  },
  {
   "cell_type": "code",
   "execution_count": 42,
   "metadata": {},
   "outputs": [],
   "source": [
    "fahrenheit = requests.post(url = \"http://0.0.0.0:8001/calculateFahrenheit\", data = json.dumps(payload))"
   ]
  },
  {
   "cell_type": "code",
   "execution_count": 44,
   "metadata": {},
   "outputs": [
    {
     "name": "stdout",
     "output_type": "stream",
     "text": [
      "0 degree celsius is 32.0 fahrenheit\n"
     ]
    }
   ],
   "source": [
    "print(f\"{celsius}\", \"degree celsius is\", f\"{fahrenheit.text}\", \"fahrenheit\")"
   ]
  },
  {
   "cell_type": "code",
   "execution_count": null,
   "metadata": {},
   "outputs": [
    {
     "name": "stdout",
     "output_type": "stream",
     "text": [
      "                                                                                  \n",
      "     _ __ ___   ___ _ __ ___ _   _ _ __ _   _ \n",
      "    | '_ ` _ \\ / _ \\ '__/ __| | | | '__| | | |\n",
      "    | | | | | |  __/ | | (__| |_| | |  | |_| |\n",
      "    |_| |_| |_|\\___|_|  \\___|\\__,_|_|   \\__, |\n",
      "                                         __/ |\n",
      "                                        |___/ \n",
      "        \n",
      "Filepond app init: Creating temporary file upload directory </opt/conda/lib/python3.10/site-packages/mercury/uploads-temp>\n",
      "Filepond app init: Creating file store directory </opt/conda/lib/python3.10/site-packages/mercury/uploads>...\n",
      "\u001b[36;1mOperations to perform:\u001b[0m\n",
      "\u001b[1m  Apply all migrations: \u001b[0madmin, auth, contenttypes, django_drf_filepond, notebooks, sessions, tasks\n",
      "\u001b[36;1mRunning migrations:\u001b[0m\n",
      "  Applying contenttypes.0001_initial...\u001b[32;1m OK\u001b[0m\n",
      "  Applying auth.0001_initial...\u001b[32;1m OK\u001b[0m\n",
      "  Applying admin.0001_initial...\u001b[32;1m OK\u001b[0m\n",
      "  Applying admin.0002_logentry_remove_auto_add...\u001b[32;1m OK\u001b[0m\n",
      "  Applying admin.0003_logentry_add_action_flag_choices...\u001b[32;1m OK\u001b[0m\n",
      "  Applying contenttypes.0002_remove_content_type_name...\u001b[32;1m OK\u001b[0m\n",
      "  Applying auth.0002_alter_permission_name_max_length...\u001b[32;1m OK\u001b[0m\n",
      "  Applying auth.0003_alter_user_email_max_length...\u001b[32;1m OK\u001b[0m\n",
      "  Applying auth.0004_alter_user_username_opts...\u001b[32;1m OK\u001b[0m\n",
      "  Applying auth.0005_alter_user_last_login_null...\u001b[32;1m OK\u001b[0m\n",
      "  Applying auth.0006_require_contenttypes_0002...\u001b[32;1m OK\u001b[0m\n",
      "  Applying auth.0007_alter_validators_add_error_messages...\u001b[32;1m OK\u001b[0m\n",
      "  Applying auth.0008_alter_user_username_max_length...\u001b[32;1m OK\u001b[0m\n",
      "  Applying auth.0009_alter_user_last_name_max_length...\u001b[32;1m OK\u001b[0m\n",
      "  Applying auth.0010_alter_group_name_max_length...\u001b[32;1m OK\u001b[0m\n",
      "  Applying auth.0011_update_proxy_permissions...\u001b[32;1m OK\u001b[0m\n",
      "  Applying auth.0012_alter_user_first_name_max_length...\u001b[32;1m OK\u001b[0m\n",
      "  Applying django_drf_filepond.0001_initial...\u001b[32;1m OK\u001b[0m\n",
      "  Applying django_drf_filepond.0002_add_upload_dir...\u001b[32;1m OK\u001b[0m\n",
      "  Applying django_drf_filepond.0003_add_storedupload...\u001b[32;1m OK\u001b[0m\n",
      "  Applying django_drf_filepond.0004_tempupload_mods...\u001b[32;1m OK\u001b[0m\n",
      "  Applying django_drf_filepond.0005_add_uploaded_by...\u001b[32;1m OK\u001b[0m\n",
      "  Applying django_drf_filepond.0006_permupload_mods...\u001b[32;1m OK\u001b[0m\n",
      "  Applying django_drf_filepond.0007_altered_stored_upload_file...\u001b[32;1m OK\u001b[0m\n",
      "  Applying django_drf_filepond.0008_temporaryuploadchunked...\u001b[32;1m OK\u001b[0m\n",
      "  Applying django_drf_filepond.0009_temporaryuploadchunked_offset_utime...\u001b[32;1m OK\u001b[0m\n",
      "  Applying django_drf_filepond.0010_temp_chunked_biginteger...\u001b[32;1m OK\u001b[0m\n",
      "  Applying notebooks.0001_initial...\u001b[32;1m OK\u001b[0m\n",
      "  Applying sessions.0001_initial...\u001b[32;1m OK\u001b[0m\n",
      "  Applying tasks.0001_initial...\u001b[32;1m OK\u001b[0m\n",
      "\n",
      "199 static files copied to '/opt/conda/lib/python3.10/site-packages/mercury/static'.\n",
      "\u001b[1mInitialize exercise3-bartl.ipynb\u001b[0m\n",
      "\u001b[32;1mSuccessfully added a notebook (id:1)\u001b[0m\n",
      "Performing system checks...\n",
      "\n",
      "System check identified no issues (0 silenced).\n",
      "December 06, 2022 - 17:05:16\n",
      "Django version 3.2.5, using settings 'server.settings'\n",
      "Starting development server at http://0.0.0.0:8000/\n",
      "Quit the server with CONTROL-C.\n",
      "[06/Dec/2022 17:05:17] \u001b[m\"GET / HTTP/1.1\" 200 2246\u001b[0m\n",
      "[06/Dec/2022 17:05:17] \u001b[m\"GET /static/manifest.json HTTP/1.1\" 200 324\u001b[0m\n",
      "[06/Dec/2022 17:05:17] \u001b[m\"GET /static/css/main.10b25b9c.chunk.css HTTP/1.1\" 200 2564\u001b[0m\n",
      "[06/Dec/2022 17:05:17] \u001b[m\"GET /static/css/2.c6cf5ff9.chunk.css HTTP/1.1\" 200 229115\u001b[0m\n",
      "[06/Dec/2022 17:05:17] \u001b[36m\"GET /static/js/main.f5e216e0.chunk.js HTTP/1.1\" 304 0\u001b[0m\n",
      "[06/Dec/2022 17:05:17] \u001b[m\"GET /static/js/2.6e058ab1.chunk.js HTTP/1.1\" 200 1242134\u001b[0m\n",
      "[06/Dec/2022 17:05:18] \u001b[36m\"GET /static/mercury_logo.svg HTTP/1.1\" 304 0\u001b[0m\n",
      "[06/Dec/2022 17:05:18] \u001b[m\"GET /api/v1/version/ HTTP/1.1\" 200 15\u001b[0m\n",
      "[06/Dec/2022 17:05:18] \u001b[m\"GET /api/v1/notebooks/ HTTP/1.1\" 200 1206\u001b[0m\n",
      "[06/Dec/2022 17:05:18] \u001b[m\"GET /api/v1/welcome/ HTTP/1.1\" 200 10\u001b[0m\n",
      "[06/Dec/2022 17:05:19] \u001b[36m\"GET /static/media/fontawesome-webfont.20fd1704.woff2 HTTP/1.1\" 304 0\u001b[0m\n",
      "[06/Dec/2022 17:05:19] \u001b[m\"GET /media/covid-dashboard.html HTTP/1.1\" 200 620038\u001b[0m\n",
      "\u001b[1;36mcelery beat v5.1.2 (sun-harmonics) is starting.\u001b[0m\n",
      "[06/Dec/2022 17:05:21] \u001b[m\"GET /app/1 HTTP/1.1\" 200 2246\u001b[0m\n",
      "[06/Dec/2022 17:05:22] \u001b[m\"GET /api/v1/version/ HTTP/1.1\" 200 15\u001b[0m\n",
      "Not Found: /api/v1/latest_task/1/51146555-3fd8-43d3-a0cc-b7171a91c49a\n",
      "[06/Dec/2022 17:05:22] \u001b[m\"GET /api/v1/execution_history/1/51146555-3fd8-43d3-a0cc-b7171a91c49a HTTP/1.1\" 200 2\u001b[0m\n",
      "[06/Dec/2022 17:05:22] \u001b[m\"GET /api/v1/notebooks/1/ HTTP/1.1\" 200 1204\u001b[0m\n",
      "[06/Dec/2022 17:05:22] \u001b[33m\"GET /api/v1/latest_task/1/51146555-3fd8-43d3-a0cc-b7171a91c49a HTTP/1.1\" 404 23\u001b[0m\n",
      "\u001b[1;34m__    \u001b[1;35m-\u001b[0m\u001b[1;34m    ... __   \u001b[0m\u001b[1;35m-\u001b[0m\u001b[1;34m        _\n",
      "\u001b[0m\u001b[0mLocalTime -> 2022-12-06 17:05:22\n",
      "Configuration ->\n",
      "    . broker -> sqla+sqlite:///celery.sqlite\n",
      "    . loader -> celery.loaders.app.AppLoader\n",
      "    . scheduler -> celery.beat.PersistentScheduler\n",
      "    . db -> celerybeat-schedule\n",
      "    . logfile -> [stderr]@%ERROR\n",
      "    . maxinterval -> 1.00 minute (60s)\u001b[0m\u001b[0m\n",
      "[06/Dec/2022 17:05:22] \u001b[36m\"GET /media/covid-dashboard.html HTTP/1.1\" 304 0\u001b[0m\n",
      "\u001b[1;36m \n",
      " -------------- celery@ce85e9b0e957 v5.1.2 (sun-harmonics)\n",
      "--- ***** ----- \n",
      "-- ******* ---- Linux-5.15.49-linuxkit-x86_64-with-glibc2.35 2022-12-06 17:05:23\n",
      "- *** --- * --- \n",
      "- ** ---------- [config]\n",
      "- ** ---------- .> app:         server:0x7f8c5db22740\n",
      "- ** ---------- .> transport:   sqla+sqlite:///celery.sqlite\n",
      "- ** ---------- .> results:     sqlite:///celery.sqlite\n",
      "- *** --- * --- .> concurrency: 1 (gevent)\n",
      "-- ******* ---- .> task events: ON\n",
      "--- ***** ----- \n",
      " -------------- [queues]\n",
      "                .> celery           exchange=celery(direct) key=celery\n",
      "                \n",
      "\u001b[0m\u001b[0m\u001b[0m\n",
      "[06/Dec/2022 17:05:39] \u001b[m\"POST /api/v1/execute/1 HTTP/1.1\" 201 326\u001b[0m\n",
      "[06/Dec/2022 17:05:40] \u001b[m\"GET /api/v1/latest_task/1/51146555-3fd8-43d3-a0cc-b7171a91c49a HTTP/1.1\" 200 327\u001b[0m\n",
      "[06/Dec/2022 17:05:40] \u001b[m\"GET /api/v1/execution_history/1/51146555-3fd8-43d3-a0cc-b7171a91c49a HTTP/1.1\" 200 329\u001b[0m\n",
      "[06/Dec/2022 17:05:41] \u001b[m\"GET /api/v1/latest_task/1/51146555-3fd8-43d3-a0cc-b7171a91c49a HTTP/1.1\" 200 327\u001b[0m\n",
      "[06/Dec/2022 17:05:41] \u001b[m\"GET /api/v1/execution_history/1/51146555-3fd8-43d3-a0cc-b7171a91c49a HTTP/1.1\" 200 329\u001b[0m\n",
      "[06/Dec/2022 17:05:42] \u001b[m\"GET /api/v1/latest_task/1/51146555-3fd8-43d3-a0cc-b7171a91c49a HTTP/1.1\" 200 327\u001b[0m\n",
      "[06/Dec/2022 17:05:42] \u001b[m\"GET /api/v1/execution_history/1/51146555-3fd8-43d3-a0cc-b7171a91c49a HTTP/1.1\" 200 329\u001b[0m\n",
      "[06/Dec/2022 17:05:43] \u001b[m\"GET /api/v1/latest_task/1/51146555-3fd8-43d3-a0cc-b7171a91c49a HTTP/1.1\" 200 327\u001b[0m\n",
      "[06/Dec/2022 17:05:43] \u001b[m\"GET /api/v1/execution_history/1/51146555-3fd8-43d3-a0cc-b7171a91c49a HTTP/1.1\" 200 329\u001b[0m\n",
      "[06/Dec/2022 17:05:45] \u001b[m\"GET /api/v1/execution_history/1/51146555-3fd8-43d3-a0cc-b7171a91c49a HTTP/1.1\" 200 329\u001b[0m\n",
      "[06/Dec/2022 17:05:45] \u001b[m\"GET /api/v1/latest_task/1/51146555-3fd8-43d3-a0cc-b7171a91c49a HTTP/1.1\" 200 327\u001b[0m\n",
      "[06/Dec/2022 17:05:46] \u001b[m\"GET /api/v1/latest_task/1/51146555-3fd8-43d3-a0cc-b7171a91c49a HTTP/1.1\" 200 327\u001b[0m\n",
      "[06/Dec/2022 17:05:46] \u001b[m\"GET /api/v1/execution_history/1/51146555-3fd8-43d3-a0cc-b7171a91c49a HTTP/1.1\" 200 329\u001b[0m\n",
      "[06/Dec/2022 17:05:47] \u001b[m\"GET /api/v1/latest_task/1/51146555-3fd8-43d3-a0cc-b7171a91c49a HTTP/1.1\" 200 327\u001b[0m\n",
      "[06/Dec/2022 17:05:47] \u001b[m\"GET /api/v1/execution_history/1/51146555-3fd8-43d3-a0cc-b7171a91c49a HTTP/1.1\" 200 329\u001b[0m\n",
      "[06/Dec/2022 17:05:48] \u001b[m\"GET /api/v1/execution_history/1/51146555-3fd8-43d3-a0cc-b7171a91c49a HTTP/1.1\" 200 329\u001b[0m\n",
      "[06/Dec/2022 17:05:48] \u001b[m\"GET /api/v1/latest_task/1/51146555-3fd8-43d3-a0cc-b7171a91c49a HTTP/1.1\" 200 327\u001b[0m\n",
      "[06/Dec/2022 17:05:49] \u001b[m\"GET /api/v1/latest_task/1/51146555-3fd8-43d3-a0cc-b7171a91c49a HTTP/1.1\" 200 327\u001b[0m\n",
      "[06/Dec/2022 17:05:49] \u001b[m\"GET /api/v1/execution_history/1/51146555-3fd8-43d3-a0cc-b7171a91c49a HTTP/1.1\" 200 329\u001b[0m\n",
      "[06/Dec/2022 17:05:50] \u001b[m\"GET /api/v1/latest_task/1/51146555-3fd8-43d3-a0cc-b7171a91c49a HTTP/1.1\" 200 327\u001b[0m\n",
      "[06/Dec/2022 17:05:50] \u001b[m\"GET /api/v1/execution_history/1/51146555-3fd8-43d3-a0cc-b7171a91c49a HTTP/1.1\" 200 329\u001b[0m\n",
      "[06/Dec/2022 17:05:51] \u001b[m\"GET /api/v1/latest_task/1/51146555-3fd8-43d3-a0cc-b7171a91c49a HTTP/1.1\" 200 327\u001b[0m\n",
      "[06/Dec/2022 17:05:51] \u001b[m\"GET /api/v1/execution_history/1/51146555-3fd8-43d3-a0cc-b7171a91c49a HTTP/1.1\" 200 329\u001b[0m\n",
      "[06/Dec/2022 17:05:52] \u001b[m\"GET /api/v1/latest_task/1/51146555-3fd8-43d3-a0cc-b7171a91c49a HTTP/1.1\" 200 327\u001b[0m\n",
      "[06/Dec/2022 17:05:52] \u001b[m\"GET /api/v1/execution_history/1/51146555-3fd8-43d3-a0cc-b7171a91c49a HTTP/1.1\" 200 329\u001b[0m\n",
      "[06/Dec/2022 17:05:53] \u001b[m\"GET /api/v1/latest_task/1/51146555-3fd8-43d3-a0cc-b7171a91c49a HTTP/1.1\" 200 327\u001b[0m\n",
      "[06/Dec/2022 17:05:53] \u001b[m\"GET /api/v1/execution_history/1/51146555-3fd8-43d3-a0cc-b7171a91c49a HTTP/1.1\" 200 329\u001b[0m\n",
      "[06/Dec/2022 17:05:54] \u001b[m\"GET /api/v1/latest_task/1/51146555-3fd8-43d3-a0cc-b7171a91c49a HTTP/1.1\" 200 327\u001b[0m\n",
      "[06/Dec/2022 17:05:54] \u001b[m\"GET /api/v1/execution_history/1/51146555-3fd8-43d3-a0cc-b7171a91c49a HTTP/1.1\" 200 329\u001b[0m\n",
      "[06/Dec/2022 17:05:55] \u001b[m\"GET /api/v1/execution_history/1/51146555-3fd8-43d3-a0cc-b7171a91c49a HTTP/1.1\" 200 329\u001b[0m\n",
      "[06/Dec/2022 17:05:55] \u001b[m\"GET /api/v1/latest_task/1/51146555-3fd8-43d3-a0cc-b7171a91c49a HTTP/1.1\" 200 327\u001b[0m\n",
      "[06/Dec/2022 17:05:56] \u001b[m\"GET /api/v1/latest_task/1/51146555-3fd8-43d3-a0cc-b7171a91c49a HTTP/1.1\" 200 327\u001b[0m\n",
      "[06/Dec/2022 17:05:56] \u001b[m\"GET /api/v1/execution_history/1/51146555-3fd8-43d3-a0cc-b7171a91c49a HTTP/1.1\" 200 329\u001b[0m\n",
      "[06/Dec/2022 17:05:57] \u001b[m\"GET /api/v1/execution_history/1/51146555-3fd8-43d3-a0cc-b7171a91c49a HTTP/1.1\" 200 329\u001b[0m\n",
      "[06/Dec/2022 17:05:57] \u001b[m\"GET /api/v1/latest_task/1/51146555-3fd8-43d3-a0cc-b7171a91c49a HTTP/1.1\" 200 327\u001b[0m\n",
      "[06/Dec/2022 17:05:59] \u001b[m\"GET /api/v1/latest_task/1/51146555-3fd8-43d3-a0cc-b7171a91c49a HTTP/1.1\" 200 327\u001b[0m\n",
      "[06/Dec/2022 17:05:59] \u001b[m\"GET /api/v1/execution_history/1/51146555-3fd8-43d3-a0cc-b7171a91c49a HTTP/1.1\" 200 329\u001b[0m\n",
      "[06/Dec/2022 17:06:00] \u001b[m\"GET /api/v1/latest_task/1/51146555-3fd8-43d3-a0cc-b7171a91c49a HTTP/1.1\" 200 327\u001b[0m\n",
      "[06/Dec/2022 17:06:00] \u001b[m\"GET /api/v1/execution_history/1/51146555-3fd8-43d3-a0cc-b7171a91c49a HTTP/1.1\" 200 329\u001b[0m\n",
      "[06/Dec/2022 17:06:01] \u001b[m\"GET /api/v1/latest_task/1/51146555-3fd8-43d3-a0cc-b7171a91c49a HTTP/1.1\" 200 327\u001b[0m\n",
      "[06/Dec/2022 17:06:01] \u001b[m\"GET /api/v1/execution_history/1/51146555-3fd8-43d3-a0cc-b7171a91c49a HTTP/1.1\" 200 329\u001b[0m\n",
      "[06/Dec/2022 17:06:02] \u001b[m\"GET /api/v1/execution_history/1/51146555-3fd8-43d3-a0cc-b7171a91c49a HTTP/1.1\" 200 329\u001b[0m\n",
      "[06/Dec/2022 17:06:02] \u001b[m\"GET /api/v1/latest_task/1/51146555-3fd8-43d3-a0cc-b7171a91c49a HTTP/1.1\" 200 327\u001b[0m\n",
      "[06/Dec/2022 17:06:03] \u001b[m\"GET /api/v1/execution_history/1/51146555-3fd8-43d3-a0cc-b7171a91c49a HTTP/1.1\" 200 329\u001b[0m\n",
      "[06/Dec/2022 17:06:03] \u001b[m\"GET /api/v1/latest_task/1/51146555-3fd8-43d3-a0cc-b7171a91c49a HTTP/1.1\" 200 327\u001b[0m\n",
      "[06/Dec/2022 17:06:04] \u001b[m\"GET /api/v1/latest_task/1/51146555-3fd8-43d3-a0cc-b7171a91c49a HTTP/1.1\" 200 327\u001b[0m\n",
      "[06/Dec/2022 17:06:04] \u001b[m\"GET /api/v1/execution_history/1/51146555-3fd8-43d3-a0cc-b7171a91c49a HTTP/1.1\" 200 329\u001b[0m\n",
      "[06/Dec/2022 17:06:05] \u001b[m\"GET /api/v1/latest_task/1/51146555-3fd8-43d3-a0cc-b7171a91c49a HTTP/1.1\" 200 327\u001b[0m\n",
      "[06/Dec/2022 17:06:05] \u001b[m\"GET /api/v1/execution_history/1/51146555-3fd8-43d3-a0cc-b7171a91c49a HTTP/1.1\" 200 329\u001b[0m\n",
      "[06/Dec/2022 17:06:06] \u001b[m\"GET /api/v1/execution_history/1/51146555-3fd8-43d3-a0cc-b7171a91c49a HTTP/1.1\" 200 329\u001b[0m\n",
      "[06/Dec/2022 17:06:06] \u001b[m\"GET /api/v1/latest_task/1/51146555-3fd8-43d3-a0cc-b7171a91c49a HTTP/1.1\" 200 327\u001b[0m\n",
      "[06/Dec/2022 17:06:07] \u001b[m\"GET /api/v1/latest_task/1/51146555-3fd8-43d3-a0cc-b7171a91c49a HTTP/1.1\" 200 327\u001b[0m\n",
      "[06/Dec/2022 17:06:07] \u001b[m\"GET /api/v1/execution_history/1/51146555-3fd8-43d3-a0cc-b7171a91c49a HTTP/1.1\" 200 329\u001b[0m\n",
      "[06/Dec/2022 17:06:11] \u001b[m\"GET /api/v1/latest_task/1/51146555-3fd8-43d3-a0cc-b7171a91c49a HTTP/1.1\" 200 327\u001b[0m\n",
      "[06/Dec/2022 17:06:11] \u001b[m\"GET /api/v1/execution_history/1/51146555-3fd8-43d3-a0cc-b7171a91c49a HTTP/1.1\" 200 329\u001b[0m\n",
      "[06/Dec/2022 17:06:14] \u001b[m\"GET /api/v1/execution_history/1/51146555-3fd8-43d3-a0cc-b7171a91c49a HTTP/1.1\" 200 329\u001b[0m\n",
      "[06/Dec/2022 17:06:14] \u001b[m\"GET /api/v1/latest_task/1/51146555-3fd8-43d3-a0cc-b7171a91c49a HTTP/1.1\" 200 327\u001b[0m\n",
      "[06/Dec/2022 17:06:17] \u001b[m\"GET /api/v1/latest_task/1/51146555-3fd8-43d3-a0cc-b7171a91c49a HTTP/1.1\" 200 327\u001b[0m\n",
      "[06/Dec/2022 17:06:17] \u001b[m\"GET /api/v1/execution_history/1/51146555-3fd8-43d3-a0cc-b7171a91c49a HTTP/1.1\" 200 329\u001b[0m\n",
      "[06/Dec/2022 17:06:18] \u001b[m\"GET /api/v1/latest_task/1/51146555-3fd8-43d3-a0cc-b7171a91c49a HTTP/1.1\" 200 327\u001b[0m\n",
      "[06/Dec/2022 17:06:18] \u001b[m\"GET /api/v1/execution_history/1/51146555-3fd8-43d3-a0cc-b7171a91c49a HTTP/1.1\" 200 329\u001b[0m\n",
      "[06/Dec/2022 17:06:21] \u001b[m\"GET /api/v1/latest_task/1/51146555-3fd8-43d3-a0cc-b7171a91c49a HTTP/1.1\" 200 327\u001b[0m\n",
      "[06/Dec/2022 17:06:21] \u001b[m\"GET /api/v1/execution_history/1/51146555-3fd8-43d3-a0cc-b7171a91c49a HTTP/1.1\" 200 329\u001b[0m\n",
      "[06/Dec/2022 17:06:23] \u001b[m\"GET /api/v1/execution_history/1/51146555-3fd8-43d3-a0cc-b7171a91c49a HTTP/1.1\" 200 382\u001b[0m\n",
      "[06/Dec/2022 17:06:23] \u001b[m\"GET /api/v1/latest_task/1/51146555-3fd8-43d3-a0cc-b7171a91c49a HTTP/1.1\" 200 380\u001b[0m\n",
      "[06/Dec/2022 17:06:23] \u001b[m\"GET /media/51146555-3fd8-43d3-a0cc-b7171a91c49a/output_1.html HTTP/1.1\" 200 632762\u001b[0m\n"
     ]
    }
   ],
   "source": [
    "!mercury run 0.0.0.0:8000 exercise3-bartl.ipynb"
   ]
  },
  {
   "cell_type": "code",
   "execution_count": null,
   "metadata": {},
   "outputs": [],
   "source": []
  }
 ],
 "metadata": {
  "kernelspec": {
   "display_name": "Python 3 (ipykernel)",
   "language": "python",
   "name": "python3"
  },
  "language_info": {
   "codemirror_mode": {
    "name": "ipython",
    "version": 3
   },
   "file_extension": ".py",
   "mimetype": "text/x-python",
   "name": "python",
   "nbconvert_exporter": "python",
   "pygments_lexer": "ipython3",
   "version": "3.10.8"
  },
  "vscode": {
   "interpreter": {
    "hash": "397704579725e15f5c7cb49fe5f0341eb7531c82d19f2c29d197e8b64ab5776b"
   }
  }
 },
 "nbformat": 4,
 "nbformat_minor": 4
}
